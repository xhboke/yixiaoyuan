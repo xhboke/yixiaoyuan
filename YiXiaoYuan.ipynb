{
 "cells": [
  {
   "cell_type": "markdown",
   "metadata": {},
   "source": [
    "## 载入包和类"
   ]
  },
  {
   "cell_type": "code",
   "execution_count": 1,
   "metadata": {
    "ExecuteTime": {
     "end_time": "2021-05-13T14:44:20.666370Z",
     "start_time": "2021-05-13T14:44:19.344824Z"
    }
   },
   "outputs": [],
   "source": [
    "import hashlib\n",
    "import requests\n",
    "import json\n",
    "# RSA公钥加密\n",
    "from Crypto.PublicKey import RSA\n",
    "from Crypto.Cipher import PKCS1_v1_5 as Cipher_pkcs1_v1_5\n",
    "from Crypto.Signature import PKCS1_v1_5 as Signature_pkcs1_v1_5\n",
    "import base64\n",
    "# 基本\n",
    "import numpy as np\n",
    "import pandas as pd\n",
    "# 时间处理\n",
    "import datetime\n",
    "from dateutil import rrule\n",
    "from dateutil.relativedelta import relativedelta\n",
    "# 绘图\n",
    "import matplotlib.pyplot as plt\n",
    "# 绘图支持中文\n",
    "plt.rcParams['font.sans-serif'] = ['SimHei']\n",
    "plt.rcParams['axes.unicode_minus'] = False"
   ]
  },
  {
   "cell_type": "code",
   "execution_count": 2,
   "metadata": {
    "ExecuteTime": {
     "end_time": "2021-05-13T14:44:20.697222Z",
     "start_time": "2021-05-13T14:44:20.669367Z"
    }
   },
   "outputs": [],
   "source": [
    "class YiXiaoYuan:\n",
    "    def __init__(self, phone, password, deviceId, osType):\n",
    "        self.phone = phone\n",
    "        self.deviceId = deviceId\n",
    "        self.password = self.rsa_encrypt(self.md5(password))\n",
    "        self.osType = osType\n",
    "        self.login_by_password()\n",
    "        self.getBaseInfo()\n",
    "\n",
    "    # 登录密码md5加密\n",
    "    def md5(self, password):\n",
    "        encrypt_md5 = hashlib.md5()\n",
    "        encrypt_md5.update(password.encode())\n",
    "        encrypt_password = encrypt_md5.hexdigest()\n",
    "        return encrypt_password\n",
    "\n",
    "    # 登录密码RSA加密公钥\n",
    "    def getPublicKey(self):\n",
    "        url = 'https://compus.xiaofubao.com/login/getPublicKey'\n",
    "        data = {'deviceId': self.deviceId}\n",
    "        headers = {\n",
    "            'User-Agent': 'Mozilla/5.0 (Windows NT 10.0; Win64; x64; rv:79.0) Gecko/20100101 Firefox/79.0'}\n",
    "        _return = json.loads(requests.post(\n",
    "            url, params=data, headers=headers).text)\n",
    "        if(_return['statusCode'] != 0):\n",
    "            print('[Tips]:获取PublicKey失败！')\n",
    "        else:\n",
    "            public_key = '''-----BEGIN PUBLIC KEY-----\n",
    "'''+_return['data']['publicKey'] + '''\n",
    "-----END PUBLIC KEY-----'''\n",
    "            return public_key\n",
    "\n",
    "    # 登录密码RSA加密\n",
    "    def rsa_encrypt(self, password):\n",
    "        public_key = self.getPublicKey()\n",
    "        cipher = Cipher_pkcs1_v1_5.new(RSA.importKey(public_key))\n",
    "        cipher_text = base64.b64encode(\n",
    "            cipher.encrypt(password.encode())).decode()\n",
    "        return cipher_text\n",
    "\n",
    "    # 登录\n",
    "    def login_by_password(self):\n",
    "        url = 'https://compus.xiaofubao.com/login/doLoginByPwd'\n",
    "        data = {'mobilePhone': self.phone, 'password': self.password,\n",
    "                'osType': self.osType, 'deviceId': self.deviceId}\n",
    "        headers = {\n",
    "            'content-type': \"Content-Type:application/x-www-form-urlencoded\",\n",
    "            'User-Agent': 'Mozilla/5.0 (Windows NT 10.0; Win64; x64; rv:79.0) Gecko/20100101 Firefox/79.0'}\n",
    "        _return = json.loads(requests.post(\n",
    "            url, params=data, headers=headers).text)\n",
    "        if(_return['statusCode'] != 0):\n",
    "            print('[Tips]:登录失败！失败原因:{}'.format(_return['message']))\n",
    "        else:\n",
    "            print('[Tips]:欢迎{}，登录成功！'.format(_return['data']['userName']))\n",
    "            self.loginData = _return\n",
    "\n",
    "    # 获取登录的基本信息\n",
    "    def getBaseInfo(self):\n",
    "        self.id = self.loginData['data']['id']\n",
    "        self.token = self.loginData['data']['token']\n",
    "        self.deviceId = self.loginData['data']['deviceId']\n",
    "        self.schoolCode = self.loginData['data']['schoolCode']\n",
    "        self.schoolName = self.loginData['data']['schoolName']\n",
    "        self.userName = self.loginData['data']['userName']\n",
    "        self.userType = self.loginData['data']['userType']\n",
    "        self.jobNo = self.loginData['data']['jobNo']\n",
    "        self.sex = self.loginData['data']['sex']\n",
    "        self.userClass = self.loginData['data']['userClass']\n",
    "        self.regiserTime = self.loginData['data']['regiserTime']\n",
    "        self.headImg = self.loginData['data']['headImg']\n",
    "\n",
    "    # 获取余额\n",
    "    def getCardMoney(self):\n",
    "        url = 'https://compus.xiaofubao.com/compus/user/getCardMoney'\n",
    "        data = {'id': self.id, 'token': self.token, 'deviceId': self.deviceId}\n",
    "        headers = {\n",
    "            'content-type': \"Content-Type:application/x-www-form-urlencoded\",\n",
    "            'User-Agent': 'Mozilla/5.0 (Windows NT 10.0; Win64; x64; rv:79.0) Gecko/20100101 Firefox/79.0'}\n",
    "        _return = json.loads(requests.post(\n",
    "            url, params=data, headers=headers).text)\n",
    "        if(_return['statusCode'] != 0):\n",
    "            print('[Tips]:获取失败！失败原因:{}'.format(_return['message']))\n",
    "        else:\n",
    "            self.CardMoney = _return['data']\n",
    "            return float(self.CardMoney)\n",
    "\n",
    "    # 获取从指定日期开始到今天的所有数据\n",
    "    def queryCard(self, year, month):\n",
    "        # 数据产生的最初日期，不知道就直接写个较小的\n",
    "        start_time = datetime.date(year, month, 1)\n",
    "        end_time = datetime.datetime.now()\n",
    "        months = rrule.rrule(\n",
    "            rrule.MONTHLY, dtstart=start_time, until=end_time).count()\n",
    "        data_list = list()\n",
    "        for i in range(months):\n",
    "            year_now = str((start_time + relativedelta(months=i)).year)\n",
    "            year_month = str((start_time + relativedelta(months=i)).month)\n",
    "            tradeMonth = year_now+'-'+year_month\n",
    "            url = 'https://compus.xiaofubao.com/routeauth/auth/route/user/cardQuerynoPage'\n",
    "            data = {'tradeMonth': tradeMonth, 'id': self.id, 'token': self.token,\n",
    "                    'deviceId': self.deviceId, 'platform': 'YUNMA_APP'}\n",
    "            headers = {\n",
    "                'content-type': \"Content-Type:application/x-www-form-urlencoded\",\n",
    "                'User-Agent': 'Mozilla/5.0 (Windows NT 10.0; Win64; x64; rv:79.0) Gecko/20100101 Firefox/79.0'}\n",
    "            _return = json.loads(requests.post(\n",
    "                url, params=data, headers=headers).text)\n",
    "            if(_return['total'] > 0):\n",
    "                for i in _return['rows']:\n",
    "                    data_list.append([i['serialno'], i['time'],\n",
    "                                      i['address'], i['money']])\n",
    "                print('[Tips]:{}导入成功！'.format(tradeMonth))\n",
    "            else:\n",
    "                print('[Tips]:{}导入失败！'.format(tradeMonth))\n",
    "        df = pd.DataFrame(data_list, columns=[\n",
    "                          'id', 'time', 'address', 'money'])\n",
    "        df = df.sort_values('time').reset_index(drop=True)\n",
    "        df[\"money\"] = df[\"money\"].astype(\"float\")\n",
    "        self.df = df\n",
    "\n",
    "    # 对消费地点分组求和\n",
    "    def sumbyAddress(self):\n",
    "        return self.df.groupby('address', as_index=False).agg({'money': np.sum})\n",
    "\n",
    "    def sumbyDay(self):\n",
    "        # 选择支出\n",
    "        df2 = df[df['money'] < 0]\n",
    "        # 转换为时间，年月日\n",
    "        pd.set_option('mode.chained_assignment', None)\n",
    "        df2['time'] = pd.to_datetime(df2[\"time\"], errors='coerce')\n",
    "        df2['time'] = df2['time'].apply(lambda x: x.strftime(\"%Y-%m-%d\"))\n",
    "        return df2.groupby('time', as_index=False).agg({'money': np.sum})"
   ]
  },
  {
   "cell_type": "markdown",
   "metadata": {},
   "source": [
    "## 登录"
   ]
  },
  {
   "cell_type": "code",
   "execution_count": 3,
   "metadata": {
    "ExecuteTime": {
     "end_time": "2021-05-13T14:44:21.445643Z",
     "start_time": "2021-05-13T14:44:20.700213Z"
    }
   },
   "outputs": [
    {
     "name": "stdout",
     "output_type": "stream",
     "text": [
      "[Tips]:登录失败！失败原因:电话号码不能为空\n"
     ]
    },
    {
     "ename": "AttributeError",
     "evalue": "'YiXiaoYuan' object has no attribute 'loginData'",
     "output_type": "error",
     "traceback": [
      "\u001b[1;31m---------------------------------------------------------------------------\u001b[0m",
      "\u001b[1;31mAttributeError\u001b[0m                            Traceback (most recent call last)",
      "\u001b[1;32m<ipython-input-3-5f8bccd14c5b>\u001b[0m in \u001b[0;36m<module>\u001b[1;34m()\u001b[0m\n\u001b[0;32m      3\u001b[0m \u001b[0mdeviceId\u001b[0m \u001b[1;33m=\u001b[0m \u001b[1;34m'3ED5F00A-A02C-4383-A383-4BEF38BF1604'\u001b[0m\u001b[1;33m\u001b[0m\u001b[0m\n\u001b[0;32m      4\u001b[0m \u001b[0mosType\u001b[0m \u001b[1;33m=\u001b[0m \u001b[1;34m'ios'\u001b[0m\u001b[1;33m\u001b[0m\u001b[0m\n\u001b[1;32m----> 5\u001b[1;33m \u001b[0mobj\u001b[0m \u001b[1;33m=\u001b[0m \u001b[0mYiXiaoYuan\u001b[0m\u001b[1;33m(\u001b[0m\u001b[0mphone\u001b[0m\u001b[1;33m,\u001b[0m \u001b[0mpassword\u001b[0m\u001b[1;33m,\u001b[0m \u001b[0mdeviceId\u001b[0m\u001b[1;33m,\u001b[0m \u001b[0mosType\u001b[0m\u001b[1;33m)\u001b[0m\u001b[1;33m\u001b[0m\u001b[0m\n\u001b[0m",
      "\u001b[1;32m<ipython-input-2-29f0cf05241c>\u001b[0m in \u001b[0;36m__init__\u001b[1;34m(self, phone, password, deviceId, osType)\u001b[0m\n\u001b[0;32m      6\u001b[0m         \u001b[0mself\u001b[0m\u001b[1;33m.\u001b[0m\u001b[0mosType\u001b[0m \u001b[1;33m=\u001b[0m \u001b[0mosType\u001b[0m\u001b[1;33m\u001b[0m\u001b[0m\n\u001b[0;32m      7\u001b[0m         \u001b[0mself\u001b[0m\u001b[1;33m.\u001b[0m\u001b[0mlogin_by_password\u001b[0m\u001b[1;33m(\u001b[0m\u001b[1;33m)\u001b[0m\u001b[1;33m\u001b[0m\u001b[0m\n\u001b[1;32m----> 8\u001b[1;33m         \u001b[0mself\u001b[0m\u001b[1;33m.\u001b[0m\u001b[0mgetBaseInfo\u001b[0m\u001b[1;33m(\u001b[0m\u001b[1;33m)\u001b[0m\u001b[1;33m\u001b[0m\u001b[0m\n\u001b[0m\u001b[0;32m      9\u001b[0m \u001b[1;33m\u001b[0m\u001b[0m\n\u001b[0;32m     10\u001b[0m     \u001b[1;31m# 登录密码md5加密\u001b[0m\u001b[1;33m\u001b[0m\u001b[1;33m\u001b[0m\u001b[0m\n",
      "\u001b[1;32m<ipython-input-2-29f0cf05241c>\u001b[0m in \u001b[0;36mgetBaseInfo\u001b[1;34m(self)\u001b[0m\n\u001b[0;32m     57\u001b[0m     \u001b[1;31m# 获取登录的基本信息\u001b[0m\u001b[1;33m\u001b[0m\u001b[1;33m\u001b[0m\u001b[0m\n\u001b[0;32m     58\u001b[0m     \u001b[1;32mdef\u001b[0m \u001b[0mgetBaseInfo\u001b[0m\u001b[1;33m(\u001b[0m\u001b[0mself\u001b[0m\u001b[1;33m)\u001b[0m\u001b[1;33m:\u001b[0m\u001b[1;33m\u001b[0m\u001b[0m\n\u001b[1;32m---> 59\u001b[1;33m         \u001b[0mself\u001b[0m\u001b[1;33m.\u001b[0m\u001b[0mid\u001b[0m \u001b[1;33m=\u001b[0m \u001b[0mself\u001b[0m\u001b[1;33m.\u001b[0m\u001b[0mloginData\u001b[0m\u001b[1;33m[\u001b[0m\u001b[1;34m'data'\u001b[0m\u001b[1;33m]\u001b[0m\u001b[1;33m[\u001b[0m\u001b[1;34m'id'\u001b[0m\u001b[1;33m]\u001b[0m\u001b[1;33m\u001b[0m\u001b[0m\n\u001b[0m\u001b[0;32m     60\u001b[0m         \u001b[0mself\u001b[0m\u001b[1;33m.\u001b[0m\u001b[0mtoken\u001b[0m \u001b[1;33m=\u001b[0m \u001b[0mself\u001b[0m\u001b[1;33m.\u001b[0m\u001b[0mloginData\u001b[0m\u001b[1;33m[\u001b[0m\u001b[1;34m'data'\u001b[0m\u001b[1;33m]\u001b[0m\u001b[1;33m[\u001b[0m\u001b[1;34m'token'\u001b[0m\u001b[1;33m]\u001b[0m\u001b[1;33m\u001b[0m\u001b[0m\n\u001b[0;32m     61\u001b[0m         \u001b[0mself\u001b[0m\u001b[1;33m.\u001b[0m\u001b[0mdeviceId\u001b[0m \u001b[1;33m=\u001b[0m \u001b[0mself\u001b[0m\u001b[1;33m.\u001b[0m\u001b[0mloginData\u001b[0m\u001b[1;33m[\u001b[0m\u001b[1;34m'data'\u001b[0m\u001b[1;33m]\u001b[0m\u001b[1;33m[\u001b[0m\u001b[1;34m'deviceId'\u001b[0m\u001b[1;33m]\u001b[0m\u001b[1;33m\u001b[0m\u001b[0m\n",
      "\u001b[1;31mAttributeError\u001b[0m: 'YiXiaoYuan' object has no attribute 'loginData'"
     ]
    }
   ],
   "source": [
    "phone = ''\n",
    "password = ''\n",
    "deviceId = '3ED5F00A-A02C-4383-A383-4BEF38BF1604'\n",
    "osType = 'ios'\n",
    "obj = YiXiaoYuan(phone, password, deviceId, osType)"
   ]
  },
  {
   "cell_type": "markdown",
   "metadata": {},
   "source": [
    "## 导入获取数据"
   ]
  },
  {
   "cell_type": "code",
   "execution_count": null,
   "metadata": {
    "ExecuteTime": {
     "end_time": "2021-05-13T14:44:21.445643Z",
     "start_time": "2021-05-13T14:44:19.333Z"
    }
   },
   "outputs": [],
   "source": [
    "# 导入从2020-12月开始到今天的所有数据\n",
    "obj.queryCard(2020,12)"
   ]
  },
  {
   "cell_type": "markdown",
   "metadata": {},
   "source": [
    "## 所有数据"
   ]
  },
  {
   "cell_type": "code",
   "execution_count": null,
   "metadata": {
    "ExecuteTime": {
     "end_time": "2021-05-13T14:44:21.445643Z",
     "start_time": "2021-05-13T14:44:19.338Z"
    }
   },
   "outputs": [],
   "source": [
    "df = obj.df"
   ]
  },
  {
   "cell_type": "markdown",
   "metadata": {},
   "source": [
    "## 分组统计及绘图展示"
   ]
  },
  {
   "cell_type": "markdown",
   "metadata": {},
   "source": [
    "### 分组地点饼图"
   ]
  },
  {
   "cell_type": "code",
   "execution_count": null,
   "metadata": {
    "ExecuteTime": {
     "end_time": "2021-05-13T14:44:21.445643Z",
     "start_time": "2021-05-13T14:44:19.348Z"
    }
   },
   "outputs": [],
   "source": [
    "# 通过消费地点分组求和\n",
    "df1 = obj.sumbyAddress()\n",
    "# 只绘出支出\n",
    "df1 = df1[df1['money'] < 0]\n",
    "# 转为正值\n",
    "df1['money'] = abs(df1['money'])\n",
    "# 绘图\n",
    "labels = df1['address']\n",
    "sizes = df1['money']\n",
    "fig, ax = plt.subplots(figsize=(14, 7))\n",
    "ax.pie(sizes, labels=labels, autopct='%1.1f%%', shadow=True, startangle=90)\n",
    "ax.axis('equal')\n",
    "plt.show()"
   ]
  },
  {
   "cell_type": "markdown",
   "metadata": {},
   "source": [
    "### 分组天数求和"
   ]
  },
  {
   "cell_type": "code",
   "execution_count": null,
   "metadata": {
    "ExecuteTime": {
     "end_time": "2021-05-13T14:44:21.445643Z",
     "start_time": "2021-05-13T14:44:19.358Z"
    }
   },
   "outputs": [],
   "source": [
    "# 通过天数分组求和\n",
    "df2 = obj.sumbyDay()\n",
    "# 转为正值\n",
    "df2['money'] = abs(df2['money'])\n",
    "# 绘图\n",
    "import matplotlib.ticker as ticker\n",
    "fig, ax = plt.subplots(figsize=(14, 7))\n",
    "ax.plot(df2['time'],df2['money'])\n",
    "ax.xaxis.set_major_locator(ticker.MultipleLocator(base=5))\n",
    "ax.set_ylabel('消费')\n",
    "plt.show()"
   ]
  }
 ],
 "metadata": {
  "kernelspec": {
   "display_name": "Python 3",
   "language": "python",
   "name": "python3"
  },
  "language_info": {
   "codemirror_mode": {
    "name": "ipython",
    "version": 3
   },
   "file_extension": ".py",
   "mimetype": "text/x-python",
   "name": "python",
   "nbconvert_exporter": "python",
   "pygments_lexer": "ipython3",
   "version": "3.7.0"
  },
  "toc": {
   "base_numbering": 1,
   "nav_menu": {},
   "number_sections": true,
   "sideBar": true,
   "skip_h1_title": false,
   "title_cell": "Table of Contents",
   "title_sidebar": "Contents",
   "toc_cell": false,
   "toc_position": {},
   "toc_section_display": true,
   "toc_window_display": false
  },
  "varInspector": {
   "cols": {
    "lenName": 16,
    "lenType": 16,
    "lenVar": 40
   },
   "kernels_config": {
    "python": {
     "delete_cmd_postfix": "",
     "delete_cmd_prefix": "del ",
     "library": "var_list.py",
     "varRefreshCmd": "print(var_dic_list())"
    },
    "r": {
     "delete_cmd_postfix": ") ",
     "delete_cmd_prefix": "rm(",
     "library": "var_list.r",
     "varRefreshCmd": "cat(var_dic_list()) "
    }
   },
   "types_to_exclude": [
    "module",
    "function",
    "builtin_function_or_method",
    "instance",
    "_Feature"
   ],
   "window_display": false
  }
 },
 "nbformat": 4,
 "nbformat_minor": 2
}
